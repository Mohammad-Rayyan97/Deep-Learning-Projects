{
 "cells": [
  {
   "cell_type": "code",
   "execution_count": 1,
   "id": "74836416-9e66-4ad0-bf9b-9a496ae85f75",
   "metadata": {},
   "outputs": [
    {
     "name": "stderr",
     "output_type": "stream",
     "text": [
      "C:\\Users\\user\\anaconda3\\anaconda3\\lib\\site-packages\\scipy\\__init__.py:177: UserWarning: A NumPy version >=1.18.5 and <1.26.0 is required for this version of SciPy (detected version 1.26.0\n",
      "  warnings.warn(f\"A NumPy version >={np_minversion} and <{np_maxversion}\"\n"
     ]
    }
   ],
   "source": [
    "import tensorflow as tf\n",
    "import os\n",
    "import cv2\n",
    "from typing import List\n",
    "import numpy as np\n",
    "import matplotlib.pyplot as plt\n",
    "import imageio"
   ]
  },
  {
   "cell_type": "code",
   "execution_count": 2,
   "id": "69a5123f-6f99-4eb0-9688-44dd271b040b",
   "metadata": {},
   "outputs": [],
   "source": [
    "import gdown ## to download public data from Google drive"
   ]
  },
  {
   "cell_type": "markdown",
   "id": "3de5c32d-7a86-48c5-a350-0788eed771ed",
   "metadata": {},
   "source": [
    "### 1. Data Collection and Pre-Processing"
   ]
  },
  {
   "cell_type": "code",
   "execution_count": 3,
   "id": "c9ebd3b8-a74c-406a-b00f-204dfbf49dca",
   "metadata": {},
   "outputs": [],
   "source": [
    "# url = 'https://drive.google.com/uc?id=1YlvpDLix3S-U8fd-gqRwPcWXAXm8JwjL'\n",
    "# output = 'data.zip'\n",
    "# gdown.download(url, output, quiet=False)\n",
    "# gdown.extractall('data.zip')"
   ]
  },
  {
   "cell_type": "code",
   "execution_count": 4,
   "id": "fe5401f4-d00c-4966-8f8e-920441a1f215",
   "metadata": {},
   "outputs": [],
   "source": [
    "def load_video(path:str) -> List[float]: \n",
    "\n",
    "    cap = cv2.VideoCapture(path)\n",
    "    frames = []\n",
    "    for _ in range(int(cap.get(cv2.CAP_PROP_FRAME_COUNT))): \n",
    "        ret, frame = cap.read()\n",
    "        frame = tf.image.rgb_to_grayscale(frame)\n",
    "        frames.append(frame[190:236,80:220,:])\n",
    "    cap.release()\n",
    "    \n",
    "    mean = tf.math.reduce_mean(frames)\n",
    "    std = tf.math.reduce_std(tf.cast(frames, tf.float32))\n",
    "    return tf.cast((frames - mean), tf.float32) / std"
   ]
  },
  {
   "cell_type": "code",
   "execution_count": 5,
   "id": "4bf6934c-6409-47dc-962b-d8b2a3eb4bd5",
   "metadata": {},
   "outputs": [],
   "source": [
    "vocab = [x for x in \"abcdefghijklmnopqrstuvwxyz'?!123456789 \"]\n",
    "# giving all the letters and numbers as vocab"
   ]
  },
  {
   "cell_type": "code",
   "execution_count": 6,
   "id": "83603046-635f-46a8-b0ce-21daf0241d83",
   "metadata": {},
   "outputs": [
    {
     "name": "stdout",
     "output_type": "stream",
     "text": [
      "The vocabulary is: ['', 'a', 'b', 'c', 'd', 'e', 'f', 'g', 'h', 'i', 'j', 'k', 'l', 'm', 'n', 'o', 'p', 'q', 'r', 's', 't', 'u', 'v', 'w', 'x', 'y', 'z', \"'\", '?', '!', '1', '2', '3', '4', '5', '6', '7', '8', '9', ' '] (size =40)\n"
     ]
    }
   ],
   "source": [
    "char_to_num = tf.keras.layers.StringLookup(vocabulary=vocab, oov_token=\"\")\n",
    "num_to_char = tf.keras.layers.StringLookup(\n",
    "    vocabulary=char_to_num.get_vocabulary(), oov_token=\"\", invert=True\n",
    ")\n",
    "\n",
    "print(\n",
    "    f\"The vocabulary is: {char_to_num.get_vocabulary()} \"\n",
    "    f\"(size ={char_to_num.vocabulary_size()})\"\n",
    ")\n",
    "\n",
    "# char_to_num converts characters to numeric indices using a given vocabulary (vocab).\n",
    "# num_to_char converts numeric indices back to the corresponding characters, using the inverted vocabulary from char_to_num.\n",
    "# This is useful for text encoding (character-level or word-level tokenization) and decoding (converting back to original text).\n",
    "\n",
    "# the oov_token argument is used to specify a token for \"out-of-vocabulary\" (OOV) words (or characters). If an input string is not found in the vocab, \n",
    "# it will be replaced by this special token. In this case, the oov_token is set to an empty string (\"\"), meaning that OOV inputs are replaced by \"\"."
   ]
  },
  {
   "cell_type": "code",
   "execution_count": 7,
   "id": "6fbb45eb-fba2-4487-b9a9-651cb0afadcb",
   "metadata": {},
   "outputs": [
    {
     "data": {
      "text/plain": [
       "<tf.Tensor: shape=(6,), dtype=int64, numpy=array([18,  1, 25, 25,  1, 14], dtype=int64)>"
      ]
     },
     "execution_count": 7,
     "metadata": {},
     "output_type": "execute_result"
    }
   ],
   "source": [
    "char_to_num(['r','a','y','y','a','n'])"
   ]
  },
  {
   "cell_type": "code",
   "execution_count": 8,
   "id": "d8e22454-46a0-4a53-ab05-0f92531c0322",
   "metadata": {},
   "outputs": [
    {
     "data": {
      "text/plain": [
       "<tf.Tensor: shape=(6,), dtype=string, numpy=array([b'r', b'a', b'y', b'y', b'a', b'n'], dtype=object)>"
      ]
     },
     "execution_count": 8,
     "metadata": {},
     "output_type": "execute_result"
    }
   ],
   "source": [
    "num_to_char([18,  1, 25, 25,  1, 14])"
   ]
  },
  {
   "cell_type": "code",
   "execution_count": 9,
   "id": "8a541e31-4958-445f-9309-51d94cf64cfd",
   "metadata": {},
   "outputs": [],
   "source": [
    "def load_alignments(path:str) -> List[str]: \n",
    "    with open(path, 'r') as f: \n",
    "        lines = f.readlines() \n",
    "    tokens = []\n",
    "    for line in lines:\n",
    "        line = line.split()\n",
    "        if line[2] != 'sil': \n",
    "            tokens = [*tokens,' ',line[2]]\n",
    "    return char_to_num(tf.reshape(tf.strings.unicode_split(tokens, input_encoding='UTF-8'), (-1)))[1:]"
   ]
  },
  {
   "cell_type": "code",
   "execution_count": 10,
   "id": "61ca7b40-ab25-47db-b174-0bf46d10bc1c",
   "metadata": {},
   "outputs": [],
   "source": [
    "def load_data(path: str): \n",
    "    path = bytes.decode(path.numpy())\n",
    "    file_name = path.split('\\\\')[-1].split('.')[0]\n",
    "    video_path = os.path.join('data','s1',f'{file_name}.mpg')\n",
    "    alignment_path = os.path.join('data','alignments',f'{file_name}.align')\n",
    "    frames = load_video(video_path) \n",
    "    alignments = load_alignments(alignment_path)\n",
    "    \n",
    "    return frames, alignments"
   ]
  },
  {
   "cell_type": "code",
   "execution_count": 11,
   "id": "c3ac3a8c-acc0-4daf-999f-2641d4c5ff61",
   "metadata": {},
   "outputs": [],
   "source": [
    "test_path = '.\\\\data\\\\s1\\\\bbaf4p.mpg'"
   ]
  },
  {
   "cell_type": "code",
   "execution_count": 12,
   "id": "91e155b3-bd36-4208-93f3-245f5ca42b0f",
   "metadata": {},
   "outputs": [
    {
     "data": {
      "text/plain": [
       "'bbaf4p'"
      ]
     },
     "execution_count": 12,
     "metadata": {},
     "output_type": "execute_result"
    }
   ],
   "source": [
    "tf.convert_to_tensor(test_path).numpy().decode('utf-8').split('\\\\')[-1].split('.')[0]\n"
   ]
  },
  {
   "cell_type": "code",
   "execution_count": 13,
   "id": "d2ada146-8e64-4ad4-92b7-b3d647cdcde1",
   "metadata": {},
   "outputs": [],
   "source": [
    "frames, alignments = load_data(tf.convert_to_tensor(test_path))\n"
   ]
  },
  {
   "cell_type": "code",
   "execution_count": 14,
   "id": "a6b70592-d23a-49b1-a510-9edb5b058e85",
   "metadata": {},
   "outputs": [
    {
     "data": {
      "image/png": "[encoded data removed]",
      "text/plain": [
       "<Figure size 640x480 with 1 Axes>"
      ]
     },
     "metadata": {},
     "output_type": "display_data"
    }
   ],
   "source": [
    "plt.imshow(frames[40]) ## showing 41th frame of test_path video\n",
    "plt.show()"
   ]
  },
  {
   "cell_type": "markdown",
   "id": "1d23b4c4-2f66-40d0-b977-23e5401b3bae",
   "metadata": {},
   "source": [
    "### 2. Building data pipeline"
   ]
  },
  {
   "cell_type": "code",
   "execution_count": 15,
   "id": "a0aacf65-9a61-4b30-a22d-bbace8890c64",
   "metadata": {},
   "outputs": [],
   "source": [
    "def mappable_function(path:str) ->List[str]:\n",
    "    result = tf.py_function(load_data, [path], (tf.float32, tf.int64))\n",
    "    return result"
   ]
  },
  {
   "cell_type": "code",
   "execution_count": 16,
   "id": "013d3fc4-da2c-4900-ab68-db164cdd783e",
   "metadata": {},
   "outputs": [],
   "source": [
    "data = tf.data.Dataset.list_files('./data/s1/*.mpg') ## reading all the video file \n",
    "data = data.shuffle(500, reshuffle_each_iteration=False) # shuffling the data\n",
    "data = data.map(mappable_function) ## mapping the data and process each video one by one\n",
    "data = data.padded_batch(2, padded_shapes=([75,None,None,None],[40])) # batching up the data into 2 videos and 2 alignment batches and 75 frames in video\n",
    "data = data.prefetch(tf.data.AUTOTUNE)\n",
    "# The prefetch transformation allows the pipeline to fetch (or prepare) data for the next training step while the current step is being executed. \n",
    "# It overlaps data preprocessing and model execution to reduce idle time and improve performance.\n",
    "train = data.take(450)\n",
    "test = data.skip(450)\n"
   ]
  },
  {
   "cell_type": "code",
   "execution_count": 17,
   "id": "fa632401-c671-4d3a-9baf-633193ebb3c7",
   "metadata": {},
   "outputs": [],
   "source": [
    "# Added for split \n",
    "train = data.take(450)\n",
    "test = data.skip(450)"
   ]
  },
  {
   "cell_type": "code",
   "execution_count": 18,
   "id": "689d3dad-a3e1-40f0-8987-bb77ca6cf328",
   "metadata": {},
   "outputs": [],
   "source": [
    "frames, alignments = data.as_numpy_iterator().next()\n"
   ]
  },
  {
   "cell_type": "code",
   "execution_count": 19,
   "id": "13be64a4-ccc2-4edb-b0c5-77f4bc2be286",
   "metadata": {},
   "outputs": [
    {
     "data": {
      "text/plain": [
       "2"
      ]
     },
     "execution_count": 19,
     "metadata": {},
     "output_type": "execute_result"
    }
   ],
   "source": [
    "len(frames)"
   ]
  },
  {
   "cell_type": "code",
   "execution_count": 20,
   "id": "ad965699-0dd3-481c-aefa-a47c38905425",
   "metadata": {},
   "outputs": [],
   "source": [
    "sample = data.as_numpy_iterator()"
   ]
  },
  {
   "cell_type": "code",
   "execution_count": 21,
   "id": "8bedf882-6242-4b7d-bfac-e0b4c65238bd",
   "metadata": {},
   "outputs": [
    {
     "data": {
      "text/plain": [
       "array([[[[[ 1.39015   ],\n",
       "          [ 1.39015   ],\n",
       "          [ 1.39015   ],\n",
       "          ...,\n",
       "          [ 0.        ],\n",
       "          [ 0.        ],\n",
       "          [ 0.        ]],\n",
       "\n",
       "         [[ 1.39015   ],\n",
       "          [ 1.39015   ],\n",
       "          [ 1.39015   ],\n",
       "          ...,\n",
       "          [ 0.        ],\n",
       "          [ 0.        ],\n",
       "          [ 0.        ]],\n",
       "\n",
       "         [[ 1.39015   ],\n",
       "          [ 1.39015   ],\n",
       "          [ 1.39015   ],\n",
       "          ...,\n",
       "          [10.426125  ],\n",
       "          [10.426125  ],\n",
       "          [10.426125  ]],\n",
       "\n",
       "         ...,\n",
       "\n",
       "         [[ 0.8995088 ],\n",
       "          [ 0.8995088 ],\n",
       "          [ 0.8995088 ],\n",
       "          ...,\n",
       "          [10.139916  ],\n",
       "          [10.180803  ],\n",
       "          [10.180803  ]],\n",
       "\n",
       "         [[ 0.8995088 ],\n",
       "          [ 0.8995088 ],\n",
       "          [ 0.8995088 ],\n",
       "          ...,\n",
       "          [10.0990305 ],\n",
       "          [10.139916  ],\n",
       "          [10.139916  ]],\n",
       "\n",
       "         [[ 0.8995088 ],\n",
       "          [ 0.8995088 ],\n",
       "          [ 0.8995088 ],\n",
       "          ...,\n",
       "          [10.0990305 ],\n",
       "          [10.139916  ],\n",
       "          [10.139916  ]]],\n",
       "\n",
       "\n",
       "        [[[ 1.39015   ],\n",
       "          [ 1.39015   ],\n",
       "          [ 1.4310367 ],\n",
       "          ...,\n",
       "          [ 0.04088676],\n",
       "          [10.426125  ],\n",
       "          [10.426125  ]],\n",
       "\n",
       "         [[ 1.39015   ],\n",
       "          [ 1.39015   ],\n",
       "          [ 1.4310367 ],\n",
       "          ...,\n",
       "          [ 0.04088676],\n",
       "          [10.426125  ],\n",
       "          [10.426125  ]],\n",
       "\n",
       "         [[ 1.3492632 ],\n",
       "          [ 1.3492632 ],\n",
       "          [ 1.39015   ],\n",
       "          ...,\n",
       "          [10.426125  ],\n",
       "          [10.385238  ],\n",
       "          [10.385238  ]],\n",
       "\n",
       "         ...,\n",
       "\n",
       "         [[ 0.9812823 ],\n",
       "          [ 0.9812823 ],\n",
       "          [ 0.94039553],\n",
       "          ...,\n",
       "          [10.0990305 ],\n",
       "          [10.0990305 ],\n",
       "          [10.0990305 ]],\n",
       "\n",
       "         [[ 0.9812823 ],\n",
       "          [ 0.9812823 ],\n",
       "          [ 0.94039553],\n",
       "          ...,\n",
       "          [10.0990305 ],\n",
       "          [10.0990305 ],\n",
       "          [10.0990305 ]],\n",
       "\n",
       "         [[ 0.9812823 ],\n",
       "          [ 0.9812823 ],\n",
       "          [ 0.94039553],\n",
       "          ...,\n",
       "          [10.0990305 ],\n",
       "          [10.0990305 ],\n",
       "          [10.0990305 ]]],\n",
       "\n",
       "\n",
       "        [[[ 1.39015   ],\n",
       "          [ 1.39015   ],\n",
       "          [ 1.39015   ],\n",
       "          ...,\n",
       "          [ 0.        ],\n",
       "          [ 0.        ],\n",
       "          [ 0.        ]],\n",
       "\n",
       "         [[ 1.39015   ],\n",
       "          [ 1.39015   ],\n",
       "          [ 1.39015   ],\n",
       "          ...,\n",
       "          [ 0.        ],\n",
       "          [ 0.        ],\n",
       "          [ 0.        ]],\n",
       "\n",
       "         [[ 1.3492632 ],\n",
       "          [ 1.3492632 ],\n",
       "          [ 1.39015   ],\n",
       "          ...,\n",
       "          [10.385238  ],\n",
       "          [10.344351  ],\n",
       "          [10.344351  ]],\n",
       "\n",
       "         ...,\n",
       "\n",
       "         [[ 0.94039553],\n",
       "          [ 0.94039553],\n",
       "          [ 0.94039553],\n",
       "          ...,\n",
       "          [10.058144  ],\n",
       "          [10.139916  ],\n",
       "          [10.0990305 ]],\n",
       "\n",
       "         [[ 0.94039553],\n",
       "          [ 0.94039553],\n",
       "          [ 0.94039553],\n",
       "          ...,\n",
       "          [10.0990305 ],\n",
       "          [10.180803  ],\n",
       "          [10.139916  ]],\n",
       "\n",
       "         [[ 0.94039553],\n",
       "          [ 0.94039553],\n",
       "          [ 0.94039553],\n",
       "          ...,\n",
       "          [10.0990305 ],\n",
       "          [10.139916  ],\n",
       "          [10.0990305 ]]],\n",
       "\n",
       "\n",
       "        ...,\n",
       "\n",
       "\n",
       "        [[[ 1.3492632 ],\n",
       "          [ 1.3492632 ],\n",
       "          [ 1.3492632 ],\n",
       "          ...,\n",
       "          [ 0.        ],\n",
       "          [10.426125  ],\n",
       "          [10.426125  ]],\n",
       "\n",
       "         [[ 1.3492632 ],\n",
       "          [ 1.3492632 ],\n",
       "          [ 1.3492632 ],\n",
       "          ...,\n",
       "          [10.426125  ],\n",
       "          [10.385238  ],\n",
       "          [10.385238  ]],\n",
       "\n",
       "         [[ 1.39015   ],\n",
       "          [ 1.39015   ],\n",
       "          [ 1.39015   ],\n",
       "          ...,\n",
       "          [10.426125  ],\n",
       "          [10.426125  ],\n",
       "          [10.426125  ]],\n",
       "\n",
       "         ...,\n",
       "\n",
       "         [[ 0.9812823 ],\n",
       "          [ 0.94039553],\n",
       "          [ 0.94039553],\n",
       "          ...,\n",
       "          [10.0990305 ],\n",
       "          [10.0990305 ],\n",
       "          [10.0990305 ]],\n",
       "\n",
       "         [[ 0.9812823 ],\n",
       "          [ 0.94039553],\n",
       "          [ 0.94039553],\n",
       "          ...,\n",
       "          [10.0990305 ],\n",
       "          [10.0990305 ],\n",
       "          [10.0990305 ]],\n",
       "\n",
       "         [[ 0.9812823 ],\n",
       "          [ 0.94039553],\n",
       "          [ 0.94039553],\n",
       "          ...,\n",
       "          [10.058144  ],\n",
       "          [10.058144  ],\n",
       "          [10.058144  ]]],\n",
       "\n",
       "\n",
       "        [[[ 1.39015   ],\n",
       "          [ 1.39015   ],\n",
       "          [ 1.3492632 ],\n",
       "          ...,\n",
       "          [ 0.        ],\n",
       "          [10.385238  ],\n",
       "          [10.385238  ]],\n",
       "\n",
       "         [[ 1.39015   ],\n",
       "          [ 1.39015   ],\n",
       "          [ 1.3492632 ],\n",
       "          ...,\n",
       "          [10.426125  ],\n",
       "          [10.344351  ],\n",
       "          [10.344351  ]],\n",
       "\n",
       "         [[ 1.3492632 ],\n",
       "          [ 1.3492632 ],\n",
       "          [ 1.3492632 ],\n",
       "          ...,\n",
       "          [10.426125  ],\n",
       "          [10.426125  ],\n",
       "          [10.426125  ]],\n",
       "\n",
       "         ...,\n",
       "\n",
       "         [[ 0.94039553],\n",
       "          [ 0.94039553],\n",
       "          [ 0.9812823 ],\n",
       "          ...,\n",
       "          [10.0990305 ],\n",
       "          [10.0990305 ],\n",
       "          [10.0990305 ]],\n",
       "\n",
       "         [[ 0.94039553],\n",
       "          [ 0.94039553],\n",
       "          [ 0.9812823 ],\n",
       "          ...,\n",
       "          [10.0990305 ],\n",
       "          [10.0990305 ],\n",
       "          [10.0990305 ]],\n",
       "\n",
       "         [[ 0.9812823 ],\n",
       "          [ 0.9812823 ],\n",
       "          [ 0.9812823 ],\n",
       "          ...,\n",
       "          [10.058144  ],\n",
       "          [10.058144  ],\n",
       "          [10.058144  ]]],\n",
       "\n",
       "\n",
       "        [[[ 1.39015   ],\n",
       "          [ 1.39015   ],\n",
       "          [ 1.4310367 ],\n",
       "          ...,\n",
       "          [ 0.        ],\n",
       "          [10.426125  ],\n",
       "          [10.426125  ]],\n",
       "\n",
       "         [[ 1.39015   ],\n",
       "          [ 1.39015   ],\n",
       "          [ 1.4310367 ],\n",
       "          ...,\n",
       "          [10.426125  ],\n",
       "          [10.385238  ],\n",
       "          [10.385238  ]],\n",
       "\n",
       "         [[ 1.3492632 ],\n",
       "          [ 1.3492632 ],\n",
       "          [ 1.3492632 ],\n",
       "          ...,\n",
       "          [10.426125  ],\n",
       "          [10.426125  ],\n",
       "          [10.426125  ]],\n",
       "\n",
       "         ...,\n",
       "\n",
       "         [[ 0.94039553],\n",
       "          [ 0.9812823 ],\n",
       "          [ 0.9812823 ],\n",
       "          ...,\n",
       "          [10.139916  ],\n",
       "          [10.139916  ],\n",
       "          [10.139916  ]],\n",
       "\n",
       "         [[ 0.94039553],\n",
       "          [ 0.9812823 ],\n",
       "          [ 0.9812823 ],\n",
       "          ...,\n",
       "          [10.180803  ],\n",
       "          [10.180803  ],\n",
       "          [10.180803  ]],\n",
       "\n",
       "         [[ 0.94039553],\n",
       "          [ 0.94039553],\n",
       "          [ 0.9812823 ],\n",
       "          ...,\n",
       "          [10.139916  ],\n",
       "          [10.139916  ],\n",
       "          [10.139916  ]]]],\n",
       "\n",
       "\n",
       "\n",
       "       [[[[ 1.1169125 ],\n",
       "          [ 1.1169125 ],\n",
       "          [ 0.67812544],\n",
       "          ...,\n",
       "          [ 0.31911787],\n",
       "          [ 0.27922812],\n",
       "          [ 0.27922812]],\n",
       "\n",
       "         [[ 1.0371331 ],\n",
       "          [ 1.1568023 ],\n",
       "          [ 0.63823575],\n",
       "          ...,\n",
       "          [ 0.31911787],\n",
       "          [ 0.27922812],\n",
       "          [ 0.27922812]],\n",
       "\n",
       "         [[ 1.5556996 ],\n",
       "          [ 1.4360304 ],\n",
       "          [ 1.0770228 ],\n",
       "          ...,\n",
       "          [ 0.19944867],\n",
       "          [ 0.19944867],\n",
       "          [ 0.15955894]],\n",
       "\n",
       "         ...,\n",
       "\n",
       "         [[ 0.99724334],\n",
       "          [ 0.99724334],\n",
       "          [ 0.99724334],\n",
       "          ...,\n",
       "          [ 0.        ],\n",
       "          [ 0.        ],\n",
       "          [ 0.        ]],\n",
       "\n",
       "         [[ 0.99724334],\n",
       "          [ 0.99724334],\n",
       "          [ 0.99724334],\n",
       "          ...,\n",
       "          [ 0.        ],\n",
       "          [ 0.        ],\n",
       "          [ 0.        ]],\n",
       "\n",
       "         [[ 0.99724334],\n",
       "          [ 0.99724334],\n",
       "          [ 0.99724334],\n",
       "          ...,\n",
       "          [ 0.        ],\n",
       "          [ 0.        ],\n",
       "          [10.171882  ]]],\n",
       "\n",
       "\n",
       "        [[[ 1.1568023 ],\n",
       "          [ 1.1568023 ],\n",
       "          [ 0.67812544],\n",
       "          ...,\n",
       "          [ 0.19944867],\n",
       "          [ 0.15955894],\n",
       "          [ 0.15955894]],\n",
       "\n",
       "         [[ 1.196692  ],\n",
       "          [ 1.0770228 ],\n",
       "          [ 0.67812544],\n",
       "          ...,\n",
       "          [ 0.19944867],\n",
       "          [ 0.15955894],\n",
       "          [ 0.15955894]],\n",
       "\n",
       "         [[ 1.4759201 ],\n",
       "          [ 1.3562509 ],\n",
       "          [ 1.0371331 ],\n",
       "          ...,\n",
       "          [ 0.19944867],\n",
       "          [ 0.19944867],\n",
       "          [ 0.19944867]],\n",
       "\n",
       "         ...,\n",
       "\n",
       "         [[ 1.0770228 ],\n",
       "          [ 1.0770228 ],\n",
       "          [ 1.0371331 ],\n",
       "          ...,\n",
       "          [10.171882  ],\n",
       "          [10.171882  ],\n",
       "          [10.171882  ]],\n",
       "\n",
       "         [[ 1.0770228 ],\n",
       "          [ 1.0770228 ],\n",
       "          [ 1.0371331 ],\n",
       "          ...,\n",
       "          [10.171882  ],\n",
       "          [10.171882  ],\n",
       "          [10.131992  ]],\n",
       "\n",
       "         [[ 1.0770228 ],\n",
       "          [ 1.0770228 ],\n",
       "          [ 1.0371331 ],\n",
       "          ...,\n",
       "          [10.171882  ],\n",
       "          [10.131992  ],\n",
       "          [10.131992  ]]],\n",
       "\n",
       "\n",
       "        [[[ 1.2365817 ],\n",
       "          [ 1.2764715 ],\n",
       "          [ 0.7180152 ],\n",
       "          ...,\n",
       "          [ 0.27922812],\n",
       "          [ 0.27922812],\n",
       "          [ 0.27922812]],\n",
       "\n",
       "         [[ 1.1169125 ],\n",
       "          [ 1.196692  ],\n",
       "          [ 0.7180152 ],\n",
       "          ...,\n",
       "          [ 0.19944867],\n",
       "          [ 0.19944867],\n",
       "          [ 0.19944867]],\n",
       "\n",
       "         [[ 1.3961407 ],\n",
       "          [ 1.3163612 ],\n",
       "          [ 1.0770228 ],\n",
       "          ...,\n",
       "          [ 0.27922812],\n",
       "          [ 0.19944867],\n",
       "          [ 0.19944867]],\n",
       "\n",
       "         ...,\n",
       "\n",
       "         [[ 1.0770228 ],\n",
       "          [ 1.0770228 ],\n",
       "          [ 1.0371331 ],\n",
       "          ...,\n",
       "          [ 0.        ],\n",
       "          [ 0.        ],\n",
       "          [ 0.        ]],\n",
       "\n",
       "         [[ 1.0770228 ],\n",
       "          [ 1.0770228 ],\n",
       "          [ 1.0371331 ],\n",
       "          ...,\n",
       "          [ 0.        ],\n",
       "          [ 0.        ],\n",
       "          [10.171882  ]],\n",
       "\n",
       "         [[ 1.0371331 ],\n",
       "          [ 1.0371331 ],\n",
       "          [ 0.99724334],\n",
       "          ...,\n",
       "          [ 0.        ],\n",
       "          [10.171882  ],\n",
       "          [10.171882  ]]],\n",
       "\n",
       "\n",
       "        ...,\n",
       "\n",
       "\n",
       "        [[[ 1.4759201 ],\n",
       "          [ 1.3961407 ],\n",
       "          [ 1.1568023 ],\n",
       "          ...,\n",
       "          [ 0.2393384 ],\n",
       "          [ 0.27922812],\n",
       "          [ 0.27922812]],\n",
       "\n",
       "         [[ 1.4759201 ],\n",
       "          [ 1.3163612 ],\n",
       "          [ 1.0770228 ],\n",
       "          ...,\n",
       "          [ 0.2393384 ],\n",
       "          [ 0.27922812],\n",
       "          [ 0.27922812]],\n",
       "\n",
       "         [[ 1.3961407 ],\n",
       "          [ 1.3961407 ],\n",
       "          [ 1.2764715 ],\n",
       "          ...,\n",
       "          [ 0.27922812],\n",
       "          [ 0.27922812],\n",
       "          [ 0.27922812]],\n",
       "\n",
       "         ...,\n",
       "\n",
       "         [[ 1.0371331 ],\n",
       "          [ 1.0371331 ],\n",
       "          [ 1.0371331 ],\n",
       "          ...,\n",
       "          [10.131992  ],\n",
       "          [10.131992  ],\n",
       "          [10.131992  ]],\n",
       "\n",
       "         [[ 1.0371331 ],\n",
       "          [ 1.0371331 ],\n",
       "          [ 1.0371331 ],\n",
       "          ...,\n",
       "          [10.131992  ],\n",
       "          [10.131992  ],\n",
       "          [10.131992  ]],\n",
       "\n",
       "         [[ 1.0371331 ],\n",
       "          [ 1.0371331 ],\n",
       "          [ 1.0371331 ],\n",
       "          ...,\n",
       "          [10.131992  ],\n",
       "          [10.131992  ],\n",
       "          [10.131992  ]]],\n",
       "\n",
       "\n",
       "        [[[ 1.4360304 ],\n",
       "          [ 1.3961407 ],\n",
       "          [ 1.2764715 ],\n",
       "          ...,\n",
       "          [ 0.2393384 ],\n",
       "          [ 0.27922812],\n",
       "          [ 0.27922812]],\n",
       "\n",
       "         [[ 1.4759201 ],\n",
       "          [ 1.3163612 ],\n",
       "          [ 0.99724334],\n",
       "          ...,\n",
       "          [ 0.2393384 ],\n",
       "          [ 0.27922812],\n",
       "          [ 0.27922812]],\n",
       "\n",
       "         [[ 1.3961407 ],\n",
       "          [ 1.3961407 ],\n",
       "          [ 1.3562509 ],\n",
       "          ...,\n",
       "          [ 0.31911787],\n",
       "          [ 0.27922812],\n",
       "          [ 0.27922812]],\n",
       "\n",
       "         ...,\n",
       "\n",
       "         [[ 1.0770228 ],\n",
       "          [ 1.0770228 ],\n",
       "          [ 1.0770228 ],\n",
       "          ...,\n",
       "          [10.131992  ],\n",
       "          [10.131992  ],\n",
       "          [10.131992  ]],\n",
       "\n",
       "         [[ 1.0371331 ],\n",
       "          [ 1.0371331 ],\n",
       "          [ 1.0371331 ],\n",
       "          ...,\n",
       "          [10.131992  ],\n",
       "          [10.131992  ],\n",
       "          [10.131992  ]],\n",
       "\n",
       "         [[ 1.0371331 ],\n",
       "          [ 1.0371331 ],\n",
       "          [ 1.0371331 ],\n",
       "          ...,\n",
       "          [10.131992  ],\n",
       "          [10.131992  ],\n",
       "          [10.131992  ]]],\n",
       "\n",
       "\n",
       "        [[[ 1.3562509 ],\n",
       "          [ 1.4759201 ],\n",
       "          [ 1.1568023 ],\n",
       "          ...,\n",
       "          [ 0.2393384 ],\n",
       "          [ 0.27922812],\n",
       "          [ 0.27922812]],\n",
       "\n",
       "         [[ 1.4360304 ],\n",
       "          [ 1.3163612 ],\n",
       "          [ 0.99724334],\n",
       "          ...,\n",
       "          [ 0.2393384 ],\n",
       "          [ 0.27922812],\n",
       "          [ 0.27922812]],\n",
       "\n",
       "         [[ 1.3961407 ],\n",
       "          [ 1.3961407 ],\n",
       "          [ 1.3562509 ],\n",
       "          ...,\n",
       "          [ 0.27922812],\n",
       "          [ 0.19944867],\n",
       "          [ 0.19944867]],\n",
       "\n",
       "         ...,\n",
       "\n",
       "         [[ 1.1169125 ],\n",
       "          [ 1.1169125 ],\n",
       "          [ 1.0770228 ],\n",
       "          ...,\n",
       "          [10.171882  ],\n",
       "          [10.131992  ],\n",
       "          [10.131992  ]],\n",
       "\n",
       "         [[ 1.0770228 ],\n",
       "          [ 1.0770228 ],\n",
       "          [ 1.0371331 ],\n",
       "          ...,\n",
       "          [10.171882  ],\n",
       "          [10.131992  ],\n",
       "          [10.131992  ]],\n",
       "\n",
       "         [[ 1.0770228 ],\n",
       "          [ 1.0770228 ],\n",
       "          [ 1.0371331 ],\n",
       "          ...,\n",
       "          [10.171882  ],\n",
       "          [10.131992  ],\n",
       "          [10.131992  ]]]]], dtype=float32)"
      ]
     },
     "execution_count": 21,
     "metadata": {},
     "output_type": "execute_result"
    }
   ],
   "source": [
    "val = sample.next(); val[0]\n"
   ]
  },
  {
   "cell_type": "code",
   "execution_count": 22,
   "id": "2452162f-e0d8-4fa1-850d-7df65047ab6d",
   "metadata": {
    "scrolled": true
   },
   "outputs": [],
   "source": [
    "if isinstance(val, tuple):\n",
    "    val = val[0]\n",
    "\n",
    "# Normalize and convert to uint8 (scaling values from [0, 1] to [0, 255])\n",
    "frames = (val * 255).astype(np.uint8)\n",
    "\n",
    "# Save all frames as an animated GIF\n"
   ]
  },
  {
   "cell_type": "code",
   "execution_count": 23,
   "id": "6a9c97ce-43c5-418c-9064-70445de27ed5",
   "metadata": {},
   "outputs": [
    {
     "data": {
      "text/plain": [
       "(75, 46, 140, 1)"
      ]
     },
     "execution_count": 23,
     "metadata": {},
     "output_type": "execute_result"
    }
   ],
   "source": [
    "data.as_numpy_iterator().next()[0][0].shape\n"
   ]
  },
  {
   "cell_type": "code",
   "execution_count": 24,
   "id": "cad5eda1-8cca-4d63-949e-f720241b48c6",
   "metadata": {},
   "outputs": [],
   "source": [
    "val = sample.next()"
   ]
  },
  {
   "cell_type": "code",
   "execution_count": 25,
   "id": "481c11de-b478-446a-bb23-6164b788f420",
   "metadata": {},
   "outputs": [
    {
     "data": {
      "image/png": "[encoded data removed]",
      "text/plain": [
       "<Figure size 640x480 with 1 Axes>"
      ]
     },
     "metadata": {},
     "output_type": "display_data"
    }
   ],
   "source": [
    "plt.imshow(val[0][0][0]) # 1st 0:videos, 2nd 0: 1st video out of the batch,  3rd 0: return the first frame in the video \n",
    "plt.show()"
   ]
  },
  {
   "cell_type": "markdown",
   "id": "bc2dadef-0aa2-4e64-a71a-923d2aa42689",
   "metadata": {},
   "source": [
    "## Building model"
   ]
  },
  {
   "cell_type": "code",
   "execution_count": 26,
   "id": "73b7ab57-ffeb-49d5-82c5-938492f95e41",
   "metadata": {},
   "outputs": [],
   "source": [
    "from tensorflow.keras.models import Sequential \n",
    "from tensorflow.keras.layers import Conv3D, Dense,LSTM, Dropout, Bidirectional, MaxPool3D, Activation, Reshape, SpatialDropout3D, BatchNormalization, TimeDistributed, Flatten\n",
    "from tensorflow.keras.optimizers import Adam\n",
    "from tensorflow.keras.callbacks import ModelCheckpoint, LearningRateScheduler"
   ]
  },
  {
   "cell_type": "code",
   "execution_count": 27,
   "id": "3321b22f-4f45-48ed-a357-7abdcbfe08d7",
   "metadata": {},
   "outputs": [
    {
     "data": {
      "text/plain": [
       "(75, 46, 140, 1)"
      ]
     },
     "execution_count": 27,
     "metadata": {},
     "output_type": "execute_result"
    }
   ],
   "source": [
    "data.as_numpy_iterator().next()[0][0].shape\n"
   ]
  },
  {
   "cell_type": "code",
   "execution_count": 28,
   "id": "c6b18a21-34f9-4deb-9ba7-b6f6f17e8735",
   "metadata": {},
   "outputs": [],
   "source": [
    "model = Sequential()\n",
    "model.add(Conv3D(128, 3, input_shape=(75,46,140,1), padding='same'))\n",
    "model.add(Activation('relu'))\n",
    "model.add(MaxPool3D((1,2,2)))\n",
    "\n",
    "model.add(Conv3D(256, 3, padding='same'))\n",
    "model.add(Activation('relu'))\n",
    "model.add(MaxPool3D((1,2,2)))\n",
    "\n",
    "model.add(Conv3D(75, 3, padding='same'))\n",
    "model.add(Activation('relu'))\n",
    "model.add(MaxPool3D((1,2,2)))\n",
    "\n",
    "model.add(TimeDistributed(Flatten()))\n",
    "\n",
    "model.add(Bidirectional(LSTM(128, kernel_initializer='Orthogonal', return_sequences=True)))\n",
    "model.add(Dropout(.5))\n",
    "\n",
    "model.add(Bidirectional(LSTM(128, kernel_initializer='Orthogonal', return_sequences=True)))\n",
    "model.add(Dropout(.5))\n",
    "\n",
    "model.add(Dense(char_to_num.vocabulary_size()+1, kernel_initializer='he_normal', activation='softmax'))"
   ]
  },
  {
   "cell_type": "code",
   "execution_count": 29,
   "id": "476c3374-2d92-4ac5-9a9b-c32a486e16e3",
   "metadata": {},
   "outputs": [
    {
     "name": "stdout",
     "output_type": "stream",
     "text": [
      "Model: \"sequential\"\n",
      "_________________________________________________________________\n",
      " Layer (type)                Output Shape              Param #   \n",
      "=================================================================\n",
      " conv3d (Conv3D)             (None, 75, 46, 140, 128)  3584      \n",
      "                                                                 \n",
      " activation (Activation)     (None, 75, 46, 140, 128)  0         \n",
      "                                                                 \n",
      " max_pooling3d (MaxPooling3D  (None, 75, 23, 70, 128)  0         \n",
      " )                                                               \n",
      "                                                                 \n",
      " conv3d_1 (Conv3D)           (None, 75, 23, 70, 256)   884992    \n",
      "                                                                 \n",
      " activation_1 (Activation)   (None, 75, 23, 70, 256)   0         \n",
      "                                                                 \n",
      " max_pooling3d_1 (MaxPooling  (None, 75, 11, 35, 256)  0         \n",
      " 3D)                                                             \n",
      "                                                                 \n",
      " conv3d_2 (Conv3D)           (None, 75, 11, 35, 75)    518475    \n",
      "                                                                 \n",
      " activation_2 (Activation)   (None, 75, 11, 35, 75)    0         \n",
      "                                                                 \n",
      " max_pooling3d_2 (MaxPooling  (None, 75, 5, 17, 75)    0         \n",
      " 3D)                                                             \n",
      "                                                                 \n",
      " time_distributed (TimeDistr  (None, 75, 6375)         0         \n",
      " ibuted)                                                         \n",
      "                                                                 \n",
      " bidirectional (Bidirectiona  (None, 75, 256)          6660096   \n",
      " l)                                                              \n",
      "                                                                 \n",
      " dropout (Dropout)           (None, 75, 256)           0         \n",
      "                                                                 \n",
      " bidirectional_1 (Bidirectio  (None, 75, 256)          394240    \n",
      " nal)                                                            \n",
      "                                                                 \n",
      " dropout_1 (Dropout)         (None, 75, 256)           0         \n",
      "                                                                 \n",
      " dense (Dense)               (None, 75, 41)            10537     \n",
      "                                                                 \n",
      "=================================================================\n",
      "Total params: 8,471,924\n",
      "Trainable params: 8,471,924\n",
      "Non-trainable params: 0\n",
      "_________________________________________________________________\n"
     ]
    }
   ],
   "source": [
    "model.summary()\n"
   ]
  },
  {
   "cell_type": "code",
   "execution_count": 30,
   "id": "3113cc05-024a-4b77-a458-a680c2531481",
   "metadata": {},
   "outputs": [
    {
     "name": "stdout",
     "output_type": "stream",
     "text": [
      "1/1 [==============================] - 4s 4s/step\n"
     ]
    }
   ],
   "source": [
    "yhat = model.predict(val[0])\n"
   ]
  },
  {
   "cell_type": "code",
   "execution_count": 31,
   "id": "596e8279-a0e4-46d9-82b4-d97d2dad0bb5",
   "metadata": {},
   "outputs": [
    {
     "data": {
      "text/plain": [
       "<tf.Tensor: shape=(), dtype=string, numpy=b'ww66nnnnnnnnnnnnnnnnnnnnnnnnnnnnnnnnnnnnnnnnxxxxxnnnnnnnnnnnnnnnnnnnnqqqqqq'>"
      ]
     },
     "execution_count": 31,
     "metadata": {},
     "output_type": "execute_result"
    }
   ],
   "source": [
    "tf.strings.reduce_join([num_to_char(x) for x in tf.argmax(yhat[0],axis=1)])\n"
   ]
  },
  {
   "cell_type": "code",
   "execution_count": 32,
   "id": "aa35c0d4-723e-4552-8807-073585c9ef3e",
   "metadata": {},
   "outputs": [
    {
     "data": {
      "text/plain": [
       "<tf.Tensor: shape=(), dtype=string, numpy=b'ww66nnnnnnnnnnnnnnnnnnnnnnnnnnnnnnnnnnnnnnnnxxxxxnnnnnnnnnnnnnnnnnnnnqqqqqq'>"
      ]
     },
     "execution_count": 32,
     "metadata": {},
     "output_type": "execute_result"
    }
   ],
   "source": [
    "tf.strings.reduce_join([num_to_char(tf.argmax(x)) for x in yhat[0]])\n"
   ]
  },
  {
   "cell_type": "code",
   "execution_count": 33,
   "id": "5dc6b118-ac50-41a8-9279-6ea4b6d0515a",
   "metadata": {},
   "outputs": [
    {
     "data": {
      "text/plain": [
       "(None, 75, 46, 140, 1)"
      ]
     },
     "execution_count": 33,
     "metadata": {},
     "output_type": "execute_result"
    }
   ],
   "source": [
    "model.input_shape\n"
   ]
  },
  {
   "cell_type": "code",
   "execution_count": 34,
   "id": "6c43b4ba-cad3-4556-a9de-d6ac9f09960a",
   "metadata": {},
   "outputs": [
    {
     "data": {
      "text/plain": [
       "(None, 75, 41)"
      ]
     },
     "execution_count": 34,
     "metadata": {},
     "output_type": "execute_result"
    }
   ],
   "source": [
    "model.output_shape\n"
   ]
  },
  {
   "cell_type": "code",
   "execution_count": 35,
   "id": "7689501a-d02e-4985-9341-9356e2ae1264",
   "metadata": {},
   "outputs": [],
   "source": [
    "def scheduler(epoch, lr):\n",
    "    if epoch < 30:\n",
    "        return lr\n",
    "    else:\n",
    "        return lr * tf.math.exp(-0.1)\n"
   ]
  },
  {
   "cell_type": "code",
   "execution_count": 36,
   "id": "cdc1c5b6-369e-4ac7-b547-a4bc4ce7cc99",
   "metadata": {},
   "outputs": [],
   "source": [
    "def CTCLoss(y_true, y_pred):\n",
    "    batch_len = tf.cast(tf.shape(y_true)[0], dtype=\"int64\")\n",
    "    input_length = tf.cast(tf.shape(y_pred)[1], dtype=\"int64\")\n",
    "    label_length = tf.cast(tf.shape(y_true)[1], dtype=\"int64\")\n",
    "\n",
    "    input_length = input_length * tf.ones(shape=(batch_len, 1), dtype=\"int64\")\n",
    "    label_length = label_length * tf.ones(shape=(batch_len, 1), dtype=\"int64\")\n",
    "\n",
    "    loss = tf.keras.backend.ctc_batch_cost(y_true, y_pred, input_length, label_length)\n",
    "    return loss"
   ]
  },
  {
   "cell_type": "code",
   "execution_count": 37,
   "id": "5b2406ad-46f8-413e-932e-3960558eb73c",
   "metadata": {},
   "outputs": [],
   "source": [
    "class ProduceExample(tf.keras.callbacks.Callback): \n",
    "    def __init__(self, dataset) -> None: \n",
    "        self.dataset = dataset.as_numpy_iterator()\n",
    "    \n",
    "    def on_epoch_end(self, epoch, logs=None) -> None:\n",
    "        data = self.dataset.next()\n",
    "        yhat = self.model.predict(data[0])\n",
    "        decoded = tf.keras.backend.ctc_decode(yhat, [75,75], greedy=False)[0][0].numpy()\n",
    "        for x in range(len(yhat)):           \n",
    "            print('Original:', tf.strings.reduce_join(num_to_char(data[1][x])).numpy().decode('utf-8'))\n",
    "            print('Prediction:', tf.strings.reduce_join(num_to_char(decoded[x])).numpy().decode('utf-8'))\n",
    "            print('~'*100)"
   ]
  },
  {
   "cell_type": "code",
   "execution_count": 38,
   "id": "74dfa9c6-03b7-4e9d-b6f2-9381e6b7054d",
   "metadata": {},
   "outputs": [],
   "source": [
    "model.compile(optimizer=Adam(learning_rate=0.001), loss=CTCLoss)\n"
   ]
  },
  {
   "cell_type": "code",
   "execution_count": 39,
   "id": "da99b6b0-7f30-4a68-b9da-6915d9ef3a7c",
   "metadata": {},
   "outputs": [],
   "source": [
    "checkpoint_callback = ModelCheckpoint(os.path.join('models','checkpoint'), monitor='loss', save_weights_only=True) \n"
   ]
  },
  {
   "cell_type": "code",
   "execution_count": 40,
   "id": "38b34880-50ce-4633-94ef-09c8d865854f",
   "metadata": {},
   "outputs": [],
   "source": [
    "schedule_callback = LearningRateScheduler(scheduler)\n"
   ]
  },
  {
   "cell_type": "code",
   "execution_count": 41,
   "id": "a5bfe6bd-4f15-4a89-8c9c-e2ec176355ee",
   "metadata": {},
   "outputs": [],
   "source": [
    "example_callback = ProduceExample(test)\n"
   ]
  },
  {
   "cell_type": "code",
   "execution_count": 42,
   "id": "f4d565a2-c318-4363-bd48-f820843155f9",
   "metadata": {},
   "outputs": [],
   "source": [
    "# model.fit(train, validation_data=test, epochs=100, callbacks=[checkpoint_callback, schedule_callback, example_callback])\n"
   ]
  },
  {
   "cell_type": "code",
   "execution_count": 43,
   "id": "0a6adf5f-33be-4fb3-ae26-3e07d0f7378e",
   "metadata": {},
   "outputs": [
    {
     "data": {
      "text/plain": [
       "<tensorflow.python.checkpoint.checkpoint.CheckpointLoadStatus at 0x1c3cf872640>"
      ]
     },
     "execution_count": 43,
     "metadata": {},
     "output_type": "execute_result"
    }
   ],
   "source": [
    "model.load_weights('models/checkpoint')"
   ]
  },
  {
   "cell_type": "code",
   "execution_count": 44,
   "id": "c5de396e-04fe-4d86-bb5c-40b94b99c731",
   "metadata": {},
   "outputs": [],
   "source": [
    "test_data = test.as_numpy_iterator()"
   ]
  },
  {
   "cell_type": "code",
   "execution_count": 45,
   "id": "c7df4f9c-22b4-4815-8de1-9b3f5dcc48a1",
   "metadata": {},
   "outputs": [],
   "source": [
    "sample = test_data.next()"
   ]
  },
  {
   "cell_type": "code",
   "execution_count": 46,
   "id": "b6517054-566b-47fb-90f2-198b5cb8ef58",
   "metadata": {},
   "outputs": [
    {
     "name": "stdout",
     "output_type": "stream",
     "text": [
      "1/1 [==============================] - 6s 6s/step\n"
     ]
    }
   ],
   "source": [
    "yhat = model.predict(sample[0])"
   ]
  },
  {
   "cell_type": "code",
   "execution_count": 47,
   "id": "d29f453d-6274-40c2-8b0a-8c19231333d8",
   "metadata": {},
   "outputs": [
    {
     "name": "stdout",
     "output_type": "stream",
     "text": [
      "~~~~~~~~~~~~~~~~~~~~~~~~~~~~~~~~~~~~~~~~~~~~~~~~~~~~~~~~~~~~~~~~~~~~~~~~~~~~~~~~~~~~~~~~~~~~~~~~~~~~ REAL TEXT\n"
     ]
    },
    {
     "data": {
      "text/plain": [
       "[<tf.Tensor: shape=(), dtype=string, numpy=b'lay red with z three soon'>,\n",
       " <tf.Tensor: shape=(), dtype=string, numpy=b'set red by i zero please'>]"
      ]
     },
     "execution_count": 47,
     "metadata": {},
     "output_type": "execute_result"
    }
   ],
   "source": [
    "print('~'*100, 'REAL TEXT')\n",
    "[tf.strings.reduce_join([num_to_char(word) for word in sentence]) for sentence in sample[1]]"
   ]
  },
  {
   "cell_type": "code",
   "execution_count": 48,
   "id": "c5f12230-6689-4308-8bc8-a14b67649d5d",
   "metadata": {},
   "outputs": [],
   "source": [
    "decoded = tf.keras.backend.ctc_decode(yhat, input_length=[75,75], greedy=True)[0][0].numpy()"
   ]
  },
  {
   "cell_type": "code",
   "execution_count": 49,
   "id": "0b730bb5-923c-4847-96ea-4824346ac778",
   "metadata": {},
   "outputs": [
    {
     "name": "stdout",
     "output_type": "stream",
     "text": [
      "~~~~~~~~~~~~~~~~~~~~~~~~~~~~~~~~~~~~~~~~~~~~~~~~~~~~~~~~~~~~~~~~~~~~~~~~~~~~~~~~~~~~~~~~~~~~~~~~~~~~ PREDICTIONS\n"
     ]
    },
    {
     "data": {
      "text/plain": [
       "[<tf.Tensor: shape=(), dtype=string, numpy=b'lay red with r three soon'>,\n",
       " <tf.Tensor: shape=(), dtype=string, numpy=b'set red by i zero please'>]"
      ]
     },
     "execution_count": 49,
     "metadata": {},
     "output_type": "execute_result"
    }
   ],
   "source": [
    "print('~'*100, 'PREDICTIONS')\n",
    "[tf.strings.reduce_join([num_to_char(word) for word in sentence]) for sentence in decoded]"
   ]
  },
  {
   "cell_type": "code",
   "execution_count": 56,
   "id": "5570a253-1e18-45dc-bbfa-b2e7255765f2",
   "metadata": {},
   "outputs": [],
   "source": [
    "sample = load_data(tf.convert_to_tensor('.\\\\data\\\\s1\\\\bbbm2p.mpg'))\n"
   ]
  },
  {
   "cell_type": "code",
   "execution_count": 57,
   "id": "d664208e-ddbd-421c-8dd3-2e4042614d8f",
   "metadata": {},
   "outputs": [
    {
     "name": "stdout",
     "output_type": "stream",
     "text": [
      "~~~~~~~~~~~~~~~~~~~~~~~~~~~~~~~~~~~~~~~~~~~~~~~~~~~~~~~~~~~~~~~~~~~~~~~~~~~~~~~~~~~~~~~~~~~~~~~~~~~~ REAL TEXT\n"
     ]
    },
    {
     "data": {
      "text/plain": [
       "[<tf.Tensor: shape=(), dtype=string, numpy=b'bin blue by m two please'>]"
      ]
     },
     "execution_count": 57,
     "metadata": {},
     "output_type": "execute_result"
    }
   ],
   "source": [
    "print('~'*100, 'REAL TEXT')\n",
    "[tf.strings.reduce_join([num_to_char(word) for word in sentence]) for sentence in [sample[1]]]"
   ]
  },
  {
   "cell_type": "code",
   "execution_count": 58,
   "id": "83db4ef2-5163-49dc-a2a6-5db110d1c9fc",
   "metadata": {},
   "outputs": [
    {
     "name": "stdout",
     "output_type": "stream",
     "text": [
      "1/1 [==============================] - 2s 2s/step\n"
     ]
    }
   ],
   "source": [
    "yhat = model.predict(tf.expand_dims(sample[0], axis=0))"
   ]
  },
  {
   "cell_type": "code",
   "execution_count": 59,
   "id": "4e9f08be-15e2-4407-a0ca-8d8f418901ac",
   "metadata": {},
   "outputs": [],
   "source": [
    "decoded = tf.keras.backend.ctc_decode(yhat, input_length=[75], greedy=True)[0][0].numpy()"
   ]
  },
  {
   "cell_type": "code",
   "execution_count": 60,
   "id": "2dd8e551-a628-4295-a65e-e9e876d0c9fa",
   "metadata": {},
   "outputs": [
    {
     "name": "stdout",
     "output_type": "stream",
     "text": [
      "~~~~~~~~~~~~~~~~~~~~~~~~~~~~~~~~~~~~~~~~~~~~~~~~~~~~~~~~~~~~~~~~~~~~~~~~~~~~~~~~~~~~~~~~~~~~~~~~~~~~ PREDICTIONS\n"
     ]
    },
    {
     "data": {
      "text/plain": [
       "[<tf.Tensor: shape=(), dtype=string, numpy=b'bin blue by m two please'>]"
      ]
     },
     "execution_count": 60,
     "metadata": {},
     "output_type": "execute_result"
    }
   ],
   "source": [
    "print('~'*100, 'PREDICTIONS')\n",
    "[tf.strings.reduce_join([num_to_char(word) for word in sentence]) for sentence in decoded]"
   ]
  },
  {
   "cell_type": "code",
   "execution_count": 61,
   "id": "c8663e11-b3b7-4463-952d-730869aeba76",
   "metadata": {},
   "outputs": [],
   "source": [
    "model.save(\"models/lipnet_model2.h5\") \n"
   ]
  },
  {
   "cell_type": "code",
   "execution_count": null,
   "id": "59af99b9-e1ab-41ee-86c0-edb0bb095791",
   "metadata": {},
   "outputs": [],
   "source": []
  }
 ],
 "metadata": {
  "kernelspec": {
   "display_name": "Python 3 (ipykernel)",
   "language": "python",
   "name": "python3"
  },
  "language_info": {
   "codemirror_mode": {
    "name": "ipython",
    "version": 3
   },
   "file_extension": ".py",
   "mimetype": "text/x-python",
   "name": "python",
   "nbconvert_exporter": "python",
   "pygments_lexer": "ipython3",
   "version": "3.9.19"
  }
 },
 "nbformat": 4,
 "nbformat_minor": 5
}
